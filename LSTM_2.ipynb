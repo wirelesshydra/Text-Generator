{
  "nbformat": 4,
  "nbformat_minor": 0,
  "metadata": {
    "colab": {
      "name": " LSTM 1.ipynb",
      "provenance": [],
      "include_colab_link": true
    },
    "kernelspec": {
      "name": "python3",
      "display_name": "Python 3"
    },
    "accelerator": "GPU"
  },
  "cells": [
    {
      "cell_type": "markdown",
      "metadata": {
        "id": "view-in-github",
        "colab_type": "text"
      },
      "source": [
        "<a href=\"https://colab.research.google.com/github/wirelesshydra/Text-Generator/blob/main/LSTM_2.ipynb\" target=\"_parent\"><img src=\"https://colab.research.google.com/assets/colab-badge.svg\" alt=\"Open In Colab\"/></a>"
      ]
    },
    {
      "cell_type": "code",
      "metadata": {
        "id": "5ZPCR_3AiTAE"
      },
      "source": [
        "from numpy import array\n",
        "from pickle import dump\n",
        "from keras.preprocessing.text import Tokenizer\n",
        "from keras.utils import to_categorical\n",
        "from keras.models import Sequential\n",
        "from keras.layers import Dense\n",
        "from keras.layers import LSTM\n",
        "from keras.layers import Embedding"
      ],
      "execution_count": 1,
      "outputs": []
    },
    {
      "cell_type": "code",
      "metadata": {
        "id": "PZ4StyuKanAq"
      },
      "source": [
        "# load doc into memory\n",
        "def load_doc(filename):\n",
        "\t# open the file as read only\n",
        "\tfile = open(filename, 'r')\n",
        "\t# read all text\n",
        "\ttext = file.read()\n",
        "\t# close the file\n",
        "\tfile.close()\n",
        "\treturn text"
      ],
      "execution_count": 2,
      "outputs": []
    },
    {
      "cell_type": "code",
      "metadata": {
        "id": "OQ6ONwHtbdq9",
        "outputId": "4ffcb33b-6dce-4d7a-b6a9-36fd307f2f56",
        "colab": {
          "base_uri": "https://localhost:8080/"
        }
      },
      "source": [
        "# load document\n",
        "in_filename = 'ram.txt'\n",
        "doc = load_doc(in_filename)\n",
        "print(doc[:201])"
      ],
      "execution_count": 3,
      "outputs": [
        {
          "output_type": "stream",
          "text": [
            "Chapter 1 \n",
            "\n",
            "\n",
            "3400 BCE, somewhere near the Godavari River, India \n",
            "\n",
            "Ram crouched low as he bent his tall, lean and muscular frame. He rested his weight on \n",
            "his right knee as he held the bow steady. The a\n"
          ],
          "name": "stdout"
        }
      ]
    },
    {
      "cell_type": "code",
      "metadata": {
        "id": "zssA4yHEbdNw"
      },
      "source": [
        "import string\n",
        "\n",
        "# turn a doc into clean tokens\n",
        "def clean_doc(doc):\n",
        "\t# replace '--' with a space ' '\n",
        "\tdoc = doc.replace('--', ' ')\n",
        "\t# split into tokens by white space\n",
        "\ttokens = doc.split()\n",
        "\t# remove punctuation from each token\n",
        "\ttable = str.maketrans('', '', string.punctuation)\n",
        "\ttokens = [w.translate(table) for w in tokens]\n",
        "\t# remove remaining tokens that are not alphabetic\n",
        "\ttokens = [word for word in tokens if word.isalpha()]\n",
        "\t# make lower case\n",
        "\ttokens = [word.lower() for word in tokens]\n",
        "\treturn tokens"
      ],
      "execution_count": 4,
      "outputs": []
    },
    {
      "cell_type": "code",
      "metadata": {
        "id": "K8e-DYHnbcpO",
        "outputId": "4d3a9c63-76a6-438b-9739-9fe990b0de7a",
        "colab": {
          "base_uri": "https://localhost:8080/"
        }
      },
      "source": [
        "# clean document\n",
        "tokens = clean_doc(doc)\n",
        "print(tokens[:200])\n",
        "print('Total Tokens: %d' % len(tokens))\n",
        "print('Unique Tokens: %d' % len(set(tokens)))"
      ],
      "execution_count": 5,
      "outputs": [
        {
          "output_type": "stream",
          "text": [
            "['chapter', 'bce', 'somewhere', 'near', 'the', 'godavari', 'river', 'india', 'ram', 'crouched', 'low', 'as', 'he', 'bent', 'his', 'tall', 'lean', 'and', 'muscular', 'frame', 'he', 'rested', 'his', 'weight', 'on', 'his', 'right', 'knee', 'as', 'he', 'held', 'the', 'bow', 'steady', 'the', 'arrow', 'was', 'fixed', 'in', 'place', 'but', 'he', 'knew', 'that', 'the', 'bowstring', 'should', 'not', 'be', 'pulled', 'too', 'early', 'he', 'want', 'his', 'muscles', 'to', 'tire', 'out', 'he', 'had', 'to', 'wait', 'for', 'the', 'perfect', 'moment', 'it', 'must', 'be', 'a', 'clean', 'strike', 'moving', 'dada', 'whispered', 'lakshman', 'to', 'his', 'elder', 'brother', 'ram', 'reply', 'his', 'eyes', 'were', 'fixed', 'on', 'the', 'target', 'a', 'light', 'breeze', 'played', 'with', 'the', 'few', 'strands', 'of', 'hair', 'that', 'had', 'escaped', 'the', 'practical', 'bun', 'atop', 'his', 'head', 'his', 'shaggy', 'unkempt', 'beard', 'and', 'his', 'white', 'dhoti', 'gently', 'fluttered', 'in', 'the', 'breeze', 'ram', 'corrected', 'his', 'angle', 'as', 'he', 'factored', 'in', 'the', 'strength', 'and', 'direction', 'of', 'the', 'wind', 'he', 'quietly', 'cast', 'his', 'white', 'angvastram', 'aside', 'to', 'reveal', 'a', 'battlescarred', 'darkskinned', 'torso', 'the', 'cloth', 'should', 'not', 'interfere', 'with', 'the', 'release', 'of', 'the', 'arrow', 'the', 'deer', 'suddenly', 'came', 'to', 'a', 'standstill', 'as', 'it', 'looked', 'up', 'perhaps', 'instinct', 'had', 'kicked', 'in', 'with', 'some', 'warning', 'signals', 'ram', 'could', 'hear', 'its', 'low', 'snort', 'as', 'it', 'stomped', 'its', 'feet', 'uneasily', 'within', 'a', 'few', 'seconds', 'it', 'went', 'back']\n",
            "Total Tokens: 86308\n",
            "Unique Tokens: 8197\n"
          ],
          "name": "stdout"
        }
      ]
    },
    {
      "cell_type": "code",
      "metadata": {
        "id": "p-hr_rypcRQt",
        "outputId": "756c7d91-8c07-4624-886d-f5fe91e1c46a",
        "colab": {
          "base_uri": "https://localhost:8080/"
        }
      },
      "source": [
        "# organize into sequences of tokens\n",
        "length = 50 + 1\n",
        "sequences = list()\n",
        "for i in range(length, len(tokens)):\n",
        "\t# select sequence of tokens\n",
        "\tseq = tokens[i-length:i]\n",
        "\t# convert into a line\n",
        "\tline = ' '.join(seq)\n",
        "\t# store\n",
        "\tsequences.append(line)\n",
        "print('Total Sequences: %d' % len(sequences))"
      ],
      "execution_count": 6,
      "outputs": [
        {
          "output_type": "stream",
          "text": [
            "Total Sequences: 86257\n"
          ],
          "name": "stdout"
        }
      ]
    },
    {
      "cell_type": "code",
      "metadata": {
        "id": "DrUdubBYcg3e"
      },
      "source": [
        "# save tokens to file, one dialog per line\n",
        "def save_doc(lines, filename):\n",
        "\tdata = '\\n'.join(lines)\n",
        "\tfile = open(filename, 'w')\n",
        "\tfile.write(data)\n",
        "\tfile.close()"
      ],
      "execution_count": 7,
      "outputs": []
    },
    {
      "cell_type": "code",
      "metadata": {
        "id": "bBjfzSxNcoAG"
      },
      "source": [
        "\n",
        "# save sequences to file\n",
        "out_filename = 'republic_sequences.txt'\n",
        "save_doc(sequences, out_filename)"
      ],
      "execution_count": 8,
      "outputs": []
    },
    {
      "cell_type": "code",
      "metadata": {
        "id": "9PSUdJ35cris"
      },
      "source": [
        "# load doc into memory\n",
        "def load_doc(filename):\n",
        "\t# open the file as read only\n",
        "\tfile = open(filename, 'r')\n",
        "\t# read all text\n",
        "\ttext = file.read()\n",
        "\t# close the file\n",
        "\tfile.close()\n",
        "\treturn text\n",
        "\n",
        "# load\n",
        "in_filename = 'republic_sequences.txt'\n",
        "doc = load_doc(in_filename)\n",
        "lines = doc.split('\\n')"
      ],
      "execution_count": 9,
      "outputs": []
    },
    {
      "cell_type": "code",
      "metadata": {
        "id": "DRTgM8e_dBrH"
      },
      "source": [
        "# integer encode sequences of words\n",
        "\n",
        "from keras.preprocessing.text import Tokenizer\n",
        "\n",
        "tokenizer = Tokenizer()\n",
        "tokenizer.fit_on_texts(lines)\n",
        "sequences = tokenizer.texts_to_sequences(lines)"
      ],
      "execution_count": 10,
      "outputs": []
    },
    {
      "cell_type": "code",
      "metadata": {
        "id": "xE3aLH0UdFh5"
      },
      "source": [
        "# vocabulary size\n",
        "vocab_size = len(tokenizer.word_index) + 1"
      ],
      "execution_count": 11,
      "outputs": []
    },
    {
      "cell_type": "code",
      "metadata": {
        "id": "U2lWps0OieAV"
      },
      "source": [
        "# separate into input and output\n",
        "from random import shuffle\n",
        "sequences = array(sequences)\n",
        "X, y = sequences[:,:-1], sequences[:,-1]\n",
        "y = to_categorical(y, num_classes=vocab_size)\n",
        "seq_length = X.shape[1]"
      ],
      "execution_count": 12,
      "outputs": []
    },
    {
      "cell_type": "code",
      "metadata": {
        "id": "ueys2e08-_ne"
      },
      "source": [
        "from sklearn.model_selection import train_test_split\n",
        "import numpy\n",
        "seed = 7\n",
        "numpy.random.seed(seed)\n",
        "X_train, X_test, y_train, y_test = train_test_split(X, y, test_size=0.33, random_state=seed)"
      ],
      "execution_count": 13,
      "outputs": []
    },
    {
      "cell_type": "code",
      "metadata": {
        "id": "Nu2XQx2iiHSh",
        "outputId": "3e3081d3-2b52-4311-921b-1bb278e466d6",
        "colab": {
          "base_uri": "https://localhost:8080/"
        }
      },
      "source": [
        "# define model\n",
        "from keras.layers import Dropout\n",
        "model = Sequential()\n",
        "model.add(Embedding(vocab_size, 50, input_length=seq_length))\n",
        "model.add(LSTM(256, return_sequences=True))\n",
        "model.add(LSTM(256))\n",
        "model.add(Dense(256, activation='relu'))\n",
        "model.add(Dropout(0.2))\n",
        "model.add(Dense(vocab_size, activation='softmax'))\n",
        "print(model.summary())"
      ],
      "execution_count": 14,
      "outputs": [
        {
          "output_type": "stream",
          "text": [
            "Model: \"sequential\"\n",
            "_________________________________________________________________\n",
            "Layer (type)                 Output Shape              Param #   \n",
            "=================================================================\n",
            "embedding (Embedding)        (None, 50, 50)            409900    \n",
            "_________________________________________________________________\n",
            "lstm (LSTM)                  (None, 50, 256)           314368    \n",
            "_________________________________________________________________\n",
            "lstm_1 (LSTM)                (None, 256)               525312    \n",
            "_________________________________________________________________\n",
            "dense (Dense)                (None, 256)               65792     \n",
            "_________________________________________________________________\n",
            "dropout (Dropout)            (None, 256)               0         \n",
            "_________________________________________________________________\n",
            "dense_1 (Dense)              (None, 8198)              2106886   \n",
            "=================================================================\n",
            "Total params: 3,422,258\n",
            "Trainable params: 3,422,258\n",
            "Non-trainable params: 0\n",
            "_________________________________________________________________\n",
            "None\n"
          ],
          "name": "stdout"
        }
      ]
    },
    {
      "cell_type": "code",
      "metadata": {
        "id": "U-3XAk05fwTK"
      },
      "source": [
        "\n",
        "# compile model\n",
        "model.compile(loss='categorical_crossentropy', optimizer='adam', metrics=['accuracy'])\n"
      ],
      "execution_count": 15,
      "outputs": []
    },
    {
      "cell_type": "code",
      "metadata": {
        "id": "DdxVSChb_CGw",
        "outputId": "fa292eb6-2c36-47be-dad8-56e55f86cc67",
        "colab": {
          "base_uri": "https://localhost:8080/"
        }
      },
      "source": [
        "from matplotlib import pyplot\n",
        "\n",
        "history = model.fit(X_train, y_train, batch_size=128,epochs=100,validation_data=(X_test,y_test))\n"
      ],
      "execution_count": 16,
      "outputs": [
        {
          "output_type": "stream",
          "text": [
            "Epoch 1/100\n",
            "452/452 [==============================] - 14s 31ms/step - loss: 6.8408 - accuracy: 0.0640 - val_loss: 6.6559 - val_accuracy: 0.0682\n",
            "Epoch 2/100\n",
            "452/452 [==============================] - 13s 30ms/step - loss: 6.4615 - accuracy: 0.0712 - val_loss: 6.5671 - val_accuracy: 0.0790\n",
            "Epoch 3/100\n",
            "452/452 [==============================] - 13s 30ms/step - loss: 6.2772 - accuracy: 0.0779 - val_loss: 6.5278 - val_accuracy: 0.0811\n",
            "Epoch 4/100\n",
            "452/452 [==============================] - 13s 30ms/step - loss: 6.1492 - accuracy: 0.0810 - val_loss: 6.4991 - val_accuracy: 0.0848\n",
            "Epoch 5/100\n",
            "452/452 [==============================] - 13s 30ms/step - loss: 6.0136 - accuracy: 0.0903 - val_loss: 6.4535 - val_accuracy: 0.0897\n",
            "Epoch 6/100\n",
            "452/452 [==============================] - 13s 30ms/step - loss: 5.9139 - accuracy: 0.0978 - val_loss: 6.4690 - val_accuracy: 0.0945\n",
            "Epoch 7/100\n",
            "452/452 [==============================] - 13s 30ms/step - loss: 5.7955 - accuracy: 0.1043 - val_loss: 6.4695 - val_accuracy: 0.0997\n",
            "Epoch 8/100\n",
            "452/452 [==============================] - 13s 30ms/step - loss: 5.6703 - accuracy: 0.1112 - val_loss: 6.4833 - val_accuracy: 0.1008\n",
            "Epoch 9/100\n",
            "452/452 [==============================] - 13s 30ms/step - loss: 5.5489 - accuracy: 0.1162 - val_loss: 6.5234 - val_accuracy: 0.1047\n",
            "Epoch 10/100\n",
            "452/452 [==============================] - 13s 30ms/step - loss: 5.4482 - accuracy: 0.1213 - val_loss: 6.5124 - val_accuracy: 0.1074\n",
            "Epoch 11/100\n",
            "452/452 [==============================] - 13s 30ms/step - loss: 5.3351 - accuracy: 0.1271 - val_loss: 6.6186 - val_accuracy: 0.1085\n",
            "Epoch 12/100\n",
            "452/452 [==============================] - 13s 29ms/step - loss: 5.2212 - accuracy: 0.1303 - val_loss: 6.6839 - val_accuracy: 0.1101\n",
            "Epoch 13/100\n",
            "452/452 [==============================] - 13s 29ms/step - loss: 5.1097 - accuracy: 0.1336 - val_loss: 6.7933 - val_accuracy: 0.1121\n",
            "Epoch 14/100\n",
            "452/452 [==============================] - 13s 29ms/step - loss: 5.0161 - accuracy: 0.1354 - val_loss: 6.8415 - val_accuracy: 0.1138\n",
            "Epoch 15/100\n",
            "452/452 [==============================] - 13s 30ms/step - loss: 4.8944 - accuracy: 0.1402 - val_loss: 6.9208 - val_accuracy: 0.1154\n",
            "Epoch 16/100\n",
            "452/452 [==============================] - 13s 30ms/step - loss: 4.7838 - accuracy: 0.1440 - val_loss: 7.2099 - val_accuracy: 0.1161\n",
            "Epoch 17/100\n",
            "452/452 [==============================] - 13s 29ms/step - loss: 4.7021 - accuracy: 0.1482 - val_loss: 7.2969 - val_accuracy: 0.1178\n",
            "Epoch 18/100\n",
            "452/452 [==============================] - 13s 29ms/step - loss: 4.7636 - accuracy: 0.1484 - val_loss: 7.2168 - val_accuracy: 0.1194\n",
            "Epoch 19/100\n",
            "452/452 [==============================] - 13s 29ms/step - loss: 4.6582 - accuracy: 0.1542 - val_loss: 7.3406 - val_accuracy: 0.1200\n",
            "Epoch 20/100\n",
            "452/452 [==============================] - 13s 30ms/step - loss: 4.4927 - accuracy: 0.1591 - val_loss: 7.6448 - val_accuracy: 0.1180\n",
            "Epoch 21/100\n",
            "452/452 [==============================] - 13s 30ms/step - loss: 4.3331 - accuracy: 0.1650 - val_loss: 7.8183 - val_accuracy: 0.1203\n",
            "Epoch 22/100\n",
            "452/452 [==============================] - 13s 29ms/step - loss: 4.1908 - accuracy: 0.1734 - val_loss: 8.1371 - val_accuracy: 0.1163\n",
            "Epoch 23/100\n",
            "452/452 [==============================] - 13s 29ms/step - loss: 4.0613 - accuracy: 0.1827 - val_loss: 8.3965 - val_accuracy: 0.1181\n",
            "Epoch 24/100\n",
            "452/452 [==============================] - 13s 29ms/step - loss: 3.9313 - accuracy: 0.1953 - val_loss: 8.6749 - val_accuracy: 0.1167\n",
            "Epoch 25/100\n",
            "452/452 [==============================] - 13s 29ms/step - loss: 3.8122 - accuracy: 0.2059 - val_loss: 8.8891 - val_accuracy: 0.1149\n",
            "Epoch 26/100\n",
            "452/452 [==============================] - 13s 29ms/step - loss: 3.6838 - accuracy: 0.2186 - val_loss: 9.1653 - val_accuracy: 0.1117\n",
            "Epoch 27/100\n",
            "452/452 [==============================] - 13s 29ms/step - loss: 3.5627 - accuracy: 0.2325 - val_loss: 9.4160 - val_accuracy: 0.1120\n",
            "Epoch 28/100\n",
            "452/452 [==============================] - 13s 29ms/step - loss: 3.4399 - accuracy: 0.2489 - val_loss: 9.6659 - val_accuracy: 0.1121\n",
            "Epoch 29/100\n",
            "452/452 [==============================] - 13s 29ms/step - loss: 3.3254 - accuracy: 0.2628 - val_loss: 10.0264 - val_accuracy: 0.1116\n",
            "Epoch 30/100\n",
            "452/452 [==============================] - 13s 29ms/step - loss: 3.2117 - accuracy: 0.2825 - val_loss: 10.1679 - val_accuracy: 0.1089\n",
            "Epoch 31/100\n",
            "452/452 [==============================] - 13s 29ms/step - loss: 3.1063 - accuracy: 0.2951 - val_loss: 10.4871 - val_accuracy: 0.1095\n",
            "Epoch 32/100\n",
            "452/452 [==============================] - 13s 29ms/step - loss: 2.9941 - accuracy: 0.3114 - val_loss: 10.7876 - val_accuracy: 0.1106\n",
            "Epoch 33/100\n",
            "452/452 [==============================] - 13s 29ms/step - loss: 2.8970 - accuracy: 0.3260 - val_loss: 11.0118 - val_accuracy: 0.1072\n",
            "Epoch 34/100\n",
            "452/452 [==============================] - 13s 29ms/step - loss: 2.7844 - accuracy: 0.3455 - val_loss: 11.3816 - val_accuracy: 0.1049\n",
            "Epoch 35/100\n",
            "452/452 [==============================] - 13s 29ms/step - loss: 2.6953 - accuracy: 0.3618 - val_loss: 11.4427 - val_accuracy: 0.1017\n",
            "Epoch 36/100\n",
            "452/452 [==============================] - 13s 29ms/step - loss: 2.5891 - accuracy: 0.3814 - val_loss: 11.8371 - val_accuracy: 0.1029\n",
            "Epoch 37/100\n",
            "452/452 [==============================] - 13s 29ms/step - loss: 2.5079 - accuracy: 0.3960 - val_loss: 11.9744 - val_accuracy: 0.0995\n",
            "Epoch 38/100\n",
            "452/452 [==============================] - 13s 29ms/step - loss: 2.4157 - accuracy: 0.4122 - val_loss: 12.2985 - val_accuracy: 0.0991\n",
            "Epoch 39/100\n",
            "452/452 [==============================] - 13s 29ms/step - loss: 2.3340 - accuracy: 0.4275 - val_loss: 12.4518 - val_accuracy: 0.0998\n",
            "Epoch 40/100\n",
            "452/452 [==============================] - 13s 29ms/step - loss: 2.2563 - accuracy: 0.4433 - val_loss: 12.7384 - val_accuracy: 0.0974\n",
            "Epoch 41/100\n",
            "452/452 [==============================] - 13s 29ms/step - loss: 2.1708 - accuracy: 0.4583 - val_loss: 12.8632 - val_accuracy: 0.0982\n",
            "Epoch 42/100\n",
            "452/452 [==============================] - 13s 29ms/step - loss: 2.1007 - accuracy: 0.4689 - val_loss: 13.1262 - val_accuracy: 0.0965\n",
            "Epoch 43/100\n",
            "452/452 [==============================] - 13s 29ms/step - loss: 2.0243 - accuracy: 0.4898 - val_loss: 13.3872 - val_accuracy: 0.0990\n",
            "Epoch 44/100\n",
            "452/452 [==============================] - 14s 30ms/step - loss: 1.9588 - accuracy: 0.5001 - val_loss: 13.4583 - val_accuracy: 0.0939\n",
            "Epoch 45/100\n",
            "452/452 [==============================] - 13s 29ms/step - loss: 1.8883 - accuracy: 0.5145 - val_loss: 13.7968 - val_accuracy: 0.0948\n",
            "Epoch 46/100\n",
            "452/452 [==============================] - 13s 29ms/step - loss: 1.8249 - accuracy: 0.5283 - val_loss: 13.9953 - val_accuracy: 0.0937\n",
            "Epoch 47/100\n",
            "452/452 [==============================] - 13s 29ms/step - loss: 1.7603 - accuracy: 0.5429 - val_loss: 14.1840 - val_accuracy: 0.0907\n",
            "Epoch 48/100\n",
            "452/452 [==============================] - 13s 29ms/step - loss: 1.7107 - accuracy: 0.5516 - val_loss: 14.4804 - val_accuracy: 0.0915\n",
            "Epoch 49/100\n",
            "452/452 [==============================] - 13s 29ms/step - loss: 1.6426 - accuracy: 0.5668 - val_loss: 14.5236 - val_accuracy: 0.0908\n",
            "Epoch 50/100\n",
            "452/452 [==============================] - 13s 29ms/step - loss: 1.5893 - accuracy: 0.5790 - val_loss: 14.8254 - val_accuracy: 0.0934\n",
            "Epoch 51/100\n",
            "452/452 [==============================] - 13s 30ms/step - loss: 1.5372 - accuracy: 0.5900 - val_loss: 15.1717 - val_accuracy: 0.0917\n",
            "Epoch 52/100\n",
            "452/452 [==============================] - 13s 29ms/step - loss: 1.4850 - accuracy: 0.6004 - val_loss: 15.2104 - val_accuracy: 0.0907\n",
            "Epoch 53/100\n",
            "452/452 [==============================] - 13s 30ms/step - loss: 1.4368 - accuracy: 0.6122 - val_loss: 15.4560 - val_accuracy: 0.0912\n",
            "Epoch 54/100\n",
            "452/452 [==============================] - 13s 29ms/step - loss: 1.3906 - accuracy: 0.6218 - val_loss: 15.6099 - val_accuracy: 0.0895\n",
            "Epoch 55/100\n",
            "452/452 [==============================] - 13s 29ms/step - loss: 1.3375 - accuracy: 0.6363 - val_loss: 15.8054 - val_accuracy: 0.0904\n",
            "Epoch 56/100\n",
            "452/452 [==============================] - 13s 29ms/step - loss: 1.2986 - accuracy: 0.6442 - val_loss: 16.0154 - val_accuracy: 0.0891\n",
            "Epoch 57/100\n",
            "452/452 [==============================] - 13s 29ms/step - loss: 1.2479 - accuracy: 0.6559 - val_loss: 16.4757 - val_accuracy: 0.0897\n",
            "Epoch 58/100\n",
            "452/452 [==============================] - 13s 29ms/step - loss: 1.2102 - accuracy: 0.6657 - val_loss: 16.4839 - val_accuracy: 0.0900\n",
            "Epoch 59/100\n",
            "452/452 [==============================] - 13s 29ms/step - loss: 1.1757 - accuracy: 0.6720 - val_loss: 16.4916 - val_accuracy: 0.0878\n",
            "Epoch 60/100\n",
            "452/452 [==============================] - 13s 29ms/step - loss: 1.1236 - accuracy: 0.6867 - val_loss: 16.7107 - val_accuracy: 0.0879\n",
            "Epoch 61/100\n",
            "452/452 [==============================] - 13s 30ms/step - loss: 1.0974 - accuracy: 0.6928 - val_loss: 16.9111 - val_accuracy: 0.0847\n",
            "Epoch 62/100\n",
            "452/452 [==============================] - 13s 29ms/step - loss: 1.0609 - accuracy: 0.7011 - val_loss: 16.9668 - val_accuracy: 0.0881\n",
            "Epoch 63/100\n",
            "452/452 [==============================] - 13s 30ms/step - loss: 1.0255 - accuracy: 0.7093 - val_loss: 17.2560 - val_accuracy: 0.0867\n",
            "Epoch 64/100\n",
            "452/452 [==============================] - 13s 30ms/step - loss: 0.9931 - accuracy: 0.7186 - val_loss: 17.4909 - val_accuracy: 0.0852\n",
            "Epoch 65/100\n",
            "452/452 [==============================] - 13s 30ms/step - loss: 0.9540 - accuracy: 0.7293 - val_loss: 17.5747 - val_accuracy: 0.0857\n",
            "Epoch 66/100\n",
            "452/452 [==============================] - 13s 29ms/step - loss: 0.9176 - accuracy: 0.7381 - val_loss: 17.6262 - val_accuracy: 0.0879\n",
            "Epoch 67/100\n",
            "452/452 [==============================] - 14s 30ms/step - loss: 0.8950 - accuracy: 0.7421 - val_loss: 18.0374 - val_accuracy: 0.0863\n",
            "Epoch 68/100\n",
            "452/452 [==============================] - 13s 29ms/step - loss: 0.8715 - accuracy: 0.7495 - val_loss: 18.3214 - val_accuracy: 0.0861\n",
            "Epoch 69/100\n",
            "452/452 [==============================] - 13s 29ms/step - loss: 0.8451 - accuracy: 0.7551 - val_loss: 18.2513 - val_accuracy: 0.0841\n",
            "Epoch 70/100\n",
            "452/452 [==============================] - 13s 30ms/step - loss: 0.8250 - accuracy: 0.7622 - val_loss: 18.4370 - val_accuracy: 0.0877\n",
            "Epoch 71/100\n",
            "452/452 [==============================] - 13s 30ms/step - loss: 0.7912 - accuracy: 0.7714 - val_loss: 18.3973 - val_accuracy: 0.0829\n",
            "Epoch 72/100\n",
            "452/452 [==============================] - 13s 29ms/step - loss: 0.7702 - accuracy: 0.7767 - val_loss: 18.7572 - val_accuracy: 0.0865\n",
            "Epoch 73/100\n",
            "452/452 [==============================] - 13s 29ms/step - loss: 0.7454 - accuracy: 0.7827 - val_loss: 18.8921 - val_accuracy: 0.0851\n",
            "Epoch 74/100\n",
            "452/452 [==============================] - 13s 29ms/step - loss: 0.7181 - accuracy: 0.7894 - val_loss: 18.9105 - val_accuracy: 0.0873\n",
            "Epoch 75/100\n",
            "452/452 [==============================] - 13s 29ms/step - loss: 0.7077 - accuracy: 0.7922 - val_loss: 18.9676 - val_accuracy: 0.0830\n",
            "Epoch 76/100\n",
            "452/452 [==============================] - 13s 29ms/step - loss: 0.6774 - accuracy: 0.8001 - val_loss: 19.4564 - val_accuracy: 0.0855\n",
            "Epoch 77/100\n",
            "452/452 [==============================] - 13s 30ms/step - loss: 0.6635 - accuracy: 0.8035 - val_loss: 19.5756 - val_accuracy: 0.0847\n",
            "Epoch 78/100\n",
            "452/452 [==============================] - 13s 30ms/step - loss: 0.6429 - accuracy: 0.8111 - val_loss: 19.3858 - val_accuracy: 0.0851\n",
            "Epoch 79/100\n",
            "452/452 [==============================] - 13s 30ms/step - loss: 0.6309 - accuracy: 0.8115 - val_loss: 19.7554 - val_accuracy: 0.0842\n",
            "Epoch 80/100\n",
            "452/452 [==============================] - 13s 30ms/step - loss: 0.6211 - accuracy: 0.8148 - val_loss: 19.8084 - val_accuracy: 0.0852\n",
            "Epoch 81/100\n",
            "452/452 [==============================] - 13s 30ms/step - loss: 0.5982 - accuracy: 0.8213 - val_loss: 20.0143 - val_accuracy: 0.0848\n",
            "Epoch 82/100\n",
            "452/452 [==============================] - 13s 30ms/step - loss: 0.5772 - accuracy: 0.8255 - val_loss: 20.2631 - val_accuracy: 0.0827\n",
            "Epoch 83/100\n",
            "452/452 [==============================] - 14s 30ms/step - loss: 0.5576 - accuracy: 0.8326 - val_loss: 20.2566 - val_accuracy: 0.0830\n",
            "Epoch 84/100\n",
            "452/452 [==============================] - 13s 29ms/step - loss: 0.5461 - accuracy: 0.8358 - val_loss: 20.5974 - val_accuracy: 0.0858\n",
            "Epoch 85/100\n",
            "452/452 [==============================] - 13s 29ms/step - loss: 0.5368 - accuracy: 0.8388 - val_loss: 20.3897 - val_accuracy: 0.0828\n",
            "Epoch 86/100\n",
            "452/452 [==============================] - 13s 30ms/step - loss: 0.5291 - accuracy: 0.8396 - val_loss: 20.6326 - val_accuracy: 0.0842\n",
            "Epoch 87/100\n",
            "452/452 [==============================] - 13s 29ms/step - loss: 0.5125 - accuracy: 0.8463 - val_loss: 20.8032 - val_accuracy: 0.0833\n",
            "Epoch 88/100\n",
            "452/452 [==============================] - 13s 30ms/step - loss: 0.4908 - accuracy: 0.8512 - val_loss: 20.9598 - val_accuracy: 0.0835\n",
            "Epoch 89/100\n",
            "452/452 [==============================] - 13s 30ms/step - loss: 0.4853 - accuracy: 0.8542 - val_loss: 21.0649 - val_accuracy: 0.0832\n",
            "Epoch 90/100\n",
            "452/452 [==============================] - 14s 30ms/step - loss: 0.4747 - accuracy: 0.8556 - val_loss: 21.3002 - val_accuracy: 0.0830\n",
            "Epoch 91/100\n",
            "452/452 [==============================] - 13s 30ms/step - loss: 0.4668 - accuracy: 0.8581 - val_loss: 21.2315 - val_accuracy: 0.0821\n",
            "Epoch 92/100\n",
            "452/452 [==============================] - 13s 29ms/step - loss: 0.4648 - accuracy: 0.8582 - val_loss: 21.1717 - val_accuracy: 0.0815\n",
            "Epoch 93/100\n",
            "452/452 [==============================] - 13s 30ms/step - loss: 0.4558 - accuracy: 0.8616 - val_loss: 21.4448 - val_accuracy: 0.0830\n",
            "Epoch 94/100\n",
            "452/452 [==============================] - 13s 30ms/step - loss: 0.4397 - accuracy: 0.8640 - val_loss: 21.5309 - val_accuracy: 0.0831\n",
            "Epoch 95/100\n",
            "452/452 [==============================] - 13s 30ms/step - loss: 0.4221 - accuracy: 0.8709 - val_loss: 21.6073 - val_accuracy: 0.0831\n",
            "Epoch 96/100\n",
            "452/452 [==============================] - 13s 30ms/step - loss: 0.4254 - accuracy: 0.8698 - val_loss: 21.8389 - val_accuracy: 0.0836\n",
            "Epoch 97/100\n",
            "452/452 [==============================] - 13s 30ms/step - loss: 0.4124 - accuracy: 0.8733 - val_loss: 21.9664 - val_accuracy: 0.0843\n",
            "Epoch 98/100\n",
            "452/452 [==============================] - 13s 30ms/step - loss: 0.4045 - accuracy: 0.8760 - val_loss: 22.0905 - val_accuracy: 0.0842\n",
            "Epoch 99/100\n",
            "452/452 [==============================] - 13s 30ms/step - loss: 0.3921 - accuracy: 0.8807 - val_loss: 21.9611 - val_accuracy: 0.0816\n",
            "Epoch 100/100\n",
            "452/452 [==============================] - 13s 30ms/step - loss: 0.4057 - accuracy: 0.8754 - val_loss: 21.9161 - val_accuracy: 0.0819\n"
          ],
          "name": "stdout"
        }
      ]
    },
    {
      "cell_type": "code",
      "metadata": {
        "id": "GkGaDZL3_XSA",
        "outputId": "d489ac36-9ac0-489e-8714-0d2b351d7e41",
        "colab": {
          "base_uri": "https://localhost:8080/",
          "height": 295
        }
      },
      "source": [
        "# plot train and validation loss\n",
        "pyplot.plot(history.history['loss'])\n",
        "pyplot.plot(history.history['val_loss'])\n",
        "pyplot.title('model train vs validation loss')\n",
        "pyplot.ylabel('loss')\n",
        "pyplot.xlabel('epoch')\n",
        "pyplot.legend(['train','validation'], loc='upper right')\n",
        "pyplot.show()"
      ],
      "execution_count": 17,
      "outputs": [
        {
          "output_type": "display_data",
          "data": {
            "image/png": "[encoded data removed]",
            "text/plain": [
              "<Figure size 432x288 with 1 Axes>"
            ]
          },
          "metadata": {
            "tags": [],
            "needs_background": "light"
          }
        }
      ]
    },
    {
      "cell_type": "code",
      "metadata": {
        "id": "b0wvScqmzBLF",
        "outputId": "cd1a0826-6d32-4c4b-d1cf-207800ab3a0a",
        "colab": {
          "base_uri": "https://localhost:8080/",
          "height": 295
        }
      },
      "source": [
        "pyplot.plot(history.history['accuracy'])\n",
        "pyplot.plot(history.history['val_accuracy'])\n",
        "pyplot.title('model train vs validation acc')\n",
        "pyplot.ylabel('accuracy')\n",
        "pyplot.xlabel('epoch')\n",
        "pyplot.legend(['train', 'validation'], loc='upper right')\n",
        "pyplot.show()"
      ],
      "execution_count": 18,
      "outputs": [
        {
          "output_type": "display_data",
          "data": {
            "image/png": "[encoded data removed]",
            "text/plain": [
              "<Figure size 432x288 with 1 Axes>"
            ]
          },
          "metadata": {
            "tags": [],
            "needs_background": "light"
          }
        }
      ]
    },
    {
      "cell_type": "code",
      "metadata": {
        "id": "lqJ0Yy2TjCeA"
      },
      "source": [
        "\n",
        "# save the model to file\n",
        "model.save('model.h5')\n",
        "# save the tokenizer\n",
        "dump(tokenizer, open('tokenizer.pkl', 'wb'))"
      ],
      "execution_count": 19,
      "outputs": []
    },
    {
      "cell_type": "code",
      "metadata": {
        "id": "knz-900aqAm8"
      },
      "source": [
        "def load_doc(filename):\n",
        "\t# open the file as read only\n",
        "\tfile = open(filename, 'r')\n",
        "\t# read all text\n",
        "\ttext = file.read()\n",
        "\t# close the file\n",
        "\tfile.close()\n",
        "\treturn text\n",
        " \n",
        "# load cleaned text sequences\n",
        "in_filename = 'republic_sequences.txt'\n",
        "doc = load_doc(in_filename)\n",
        "lines = doc.split('\\n')"
      ],
      "execution_count": 20,
      "outputs": []
    },
    {
      "cell_type": "code",
      "metadata": {
        "id": "xFb4SqywqRu5"
      },
      "source": [
        "seq_length = len(lines[0].split()) - 1"
      ],
      "execution_count": 21,
      "outputs": []
    },
    {
      "cell_type": "code",
      "metadata": {
        "id": "gS57heLcqU1b"
      },
      "source": [
        "# load the model\n",
        "from keras.models import load_model\n",
        "from pickle import dump\n",
        "model = load_model('model.h5')"
      ],
      "execution_count": 22,
      "outputs": []
    },
    {
      "cell_type": "code",
      "metadata": {
        "id": "DAc5ZqY3soYz"
      },
      "source": [
        "from random import randint\n",
        "from pickle import load\n",
        "from keras.models import load_model\n",
        "from keras.preprocessing.sequence import pad_sequences\n",
        " \n",
        "\n",
        " \n",
        "# generate a sequence from a language model\n",
        "def generate_seq(model, tokenizer, seq_length, seed_text, n_words):\n",
        "\tresult = list()\n",
        "\tin_text = seed_text\n",
        "\t# generate a fixed number of words\n",
        "\tfor _ in range(n_words):\n",
        "\t\t# encode the text as integer\n",
        "\t\tencoded = tokenizer.texts_to_sequences([in_text])[0]\n",
        "\t\t# truncate sequences to a fixed length\n",
        "\t\tencoded = pad_sequences([encoded], maxlen=seq_length, truncating='pre')\n",
        "\t\t# predict probabilities for each word\n",
        "\t\tyhat = model.predict_classes(encoded, verbose=0)\n",
        "\t\t# map predicted word index to word\n",
        "\t\tout_word = ''\n",
        "\t\tfor word, index in tokenizer.word_index.items():\n",
        "\t\t\tif index == yhat:\n",
        "\t\t\t\tout_word = word\n",
        "\t\t\t\tbreak\n",
        "\t\t# append to input\n",
        "\t\tin_text += ' ' + out_word\n",
        "\t\tresult.append(out_word)\n",
        "\treturn ' '.join(result)\n",
        " \n"
      ],
      "execution_count": 23,
      "outputs": []
    },
    {
      "cell_type": "code",
      "metadata": {
        "id": "RKETYSSEtcdK"
      },
      "source": [
        "# load cleaned text sequences\n",
        "in_filename = 'republic_sequences.txt'\n",
        "doc = load_doc(in_filename)\n",
        "lines = doc.split('\\n')\n",
        "seq_length = len(lines[0].split()) - 1\n",
        " \n",
        "# load the model\n",
        "model = load_model('model.h5')\n",
        " \n",
        "# load the tokenizer\n",
        "tokenizer = load(open('tokenizer.pkl', 'rb'))\n",
        " \n"
      ],
      "execution_count": 24,
      "outputs": []
    },
    {
      "cell_type": "code",
      "metadata": {
        "id": "T5J-H9t7tgHR",
        "outputId": "e00346e0-3778-4860-a27a-9326f74c1969",
        "colab": {
          "base_uri": "https://localhost:8080/"
        }
      },
      "source": [
        "# select a seed text\n",
        "seed_text = lines[randint(0,len(lines))]\n",
        "print(seed_text + '\\n')\n",
        " \n"
      ],
      "execution_count": 25,
      "outputs": [
        {
          "output_type": "stream",
          "text": [
            "as a dutiful son he would not allow himself even in his own mind to entertain rebellious thoughts against his father lakshman walking a few steps behind was engrossed in the frenetic activities of the jungle shatrughan however was listening in on the conversation with keen interest ram dada is too\n",
            "\n"
          ],
          "name": "stdout"
        }
      ]
    },
    {
      "cell_type": "code",
      "metadata": {
        "id": "nYogJqz_tfy1",
        "outputId": "0caa8a2d-39f2-47f2-831a-3340c59956b9",
        "colab": {
          "base_uri": "https://localhost:8080/"
        }
      },
      "source": [
        "# generate new text\n",
        "generated = generate_seq(model, tokenizer, seq_length, seed_text, 50)\n",
        "print(generated)"
      ],
      "execution_count": 26,
      "outputs": [
        {
          "output_type": "stream",
          "text": [
            "WARNING:tensorflow:From <ipython-input-23-27f3623edef7>:19: Sequential.predict_classes (from tensorflow.python.keras.engine.sequential) is deprecated and will be removed after 2021-01-01.\n",
            "Instructions for updating:\n",
            "Please use instead:* `np.argmax(model.predict(x), axis=-1)`,   if your model does multi-class classification   (e.g. if it uses a `softmax` last-layer activation).* `(model.predict(x) > 0.5).astype(\"int32\")`,   if your model does binary classification   (e.g. if it uses a `sigmoid` last-layer activation).\n",
            "why would not be happy with his body to your mother he is fourteen years with ram smiled to roshni i think it is not i will come on your ram was a naga a few months will not be spared had to be in the devas but built into\n"
          ],
          "name": "stdout"
        }
      ]
    },
    {
      "cell_type": "code",
      "metadata": {
        "id": "I5coTuDEtfOC",
        "outputId": "a07b13ff-ec31-4f2b-d6ae-2249d3d239f3",
        "colab": {
          "base_uri": "https://localhost:8080/"
        }
      },
      "source": [
        "loss, accuracy = model.evaluate(X, y)\n"
      ],
      "execution_count": 27,
      "outputs": [
        {
          "output_type": "stream",
          "text": [
            "2696/2696 [==============================] - 16s 6ms/step - loss: 7.3022 - accuracy: 0.6847\n"
          ],
          "name": "stdout"
        }
      ]
    },
    {
      "cell_type": "code",
      "metadata": {
        "id": "jO0Z-j5h_kb7",
        "outputId": "54c7e86d-0558-4e03-ed50-0126230c7163",
        "colab": {
          "base_uri": "https://localhost:8080/"
        }
      },
      "source": [
        "print(loss)\n",
        "print(accuracy)"
      ],
      "execution_count": 28,
      "outputs": [
        {
          "output_type": "stream",
          "text": [
            "7.302230358123779\n",
            "0.6846516728401184\n"
          ],
          "name": "stdout"
        }
      ]
    },
    {
      "cell_type": "code",
      "metadata": {
        "id": "vHI14qPD_7Un"
      },
      "source": [
        ""
      ],
      "execution_count": 28,
      "outputs": []
    }
  ]
}