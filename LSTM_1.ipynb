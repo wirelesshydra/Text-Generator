{
  "nbformat": 4,
  "nbformat_minor": 0,
  "metadata": {
    "colab": {
      "name": " LSTM 1.ipynb",
      "provenance": [],
      "include_colab_link": true
    },
    "kernelspec": {
      "name": "python3",
      "display_name": "Python 3"
    },
    "accelerator": "GPU"
  },
  "cells": [
    {
      "cell_type": "markdown",
      "metadata": {
        "id": "view-in-github",
        "colab_type": "text"
      },
      "source": [
        "<a href=\"https://colab.research.google.com/github/wirelesshydra/Text-Generator/blob/main/LSTM_1.ipynb\" target=\"_parent\"><img src=\"https://colab.research.google.com/assets/colab-badge.svg\" alt=\"Open In Colab\"/></a>"
      ]
    },
    {
      "cell_type": "code",
      "metadata": {
        "id": "5ZPCR_3AiTAE"
      },
      "source": [
        "from numpy import array\n",
        "from pickle import dump\n",
        "from keras.preprocessing.text import Tokenizer\n",
        "from keras.utils import to_categorical\n",
        "from keras.models import Sequential\n",
        "from keras.layers import Dense\n",
        "from keras.layers import LSTM\n",
        "from keras.layers import Embedding"
      ],
      "execution_count": 1,
      "outputs": []
    },
    {
      "cell_type": "code",
      "metadata": {
        "id": "PZ4StyuKanAq"
      },
      "source": [
        "# load doc into memory\n",
        "def load_doc(filename):\n",
        "\t# open the file as read only\n",
        "\tfile = open(filename, 'r')\n",
        "\t# read all text\n",
        "\ttext = file.read()\n",
        "\t# close the file\n",
        "\tfile.close()\n",
        "\treturn text"
      ],
      "execution_count": 2,
      "outputs": []
    },
    {
      "cell_type": "code",
      "metadata": {
        "id": "OQ6ONwHtbdq9",
        "outputId": "cb784728-1642-466a-c35b-9e5e4df66cf3",
        "colab": {
          "base_uri": "https://localhost:8080/"
        }
      },
      "source": [
        "# load document\n",
        "in_filename = 'ram.txt'\n",
        "doc = load_doc(in_filename)\n",
        "print(doc[:201])"
      ],
      "execution_count": 3,
      "outputs": [
        {
          "output_type": "stream",
          "text": [
            "Chapter 1 \n",
            "\n",
            "\n",
            "3400 BCE, somewhere near the Godavari River, India \n",
            "\n",
            "Ram crouched low as he bent his tall, lean and muscular frame. He rested his weight on \n",
            "his right knee as he held the bow steady. The a\n"
          ],
          "name": "stdout"
        }
      ]
    },
    {
      "cell_type": "code",
      "metadata": {
        "id": "zssA4yHEbdNw"
      },
      "source": [
        "import string\n",
        "\n",
        "# turn a doc into clean tokens\n",
        "def clean_doc(doc):\n",
        "\t# replace '--' with a space ' '\n",
        "\tdoc = doc.replace('--', ' ')\n",
        "\t# split into tokens by white space\n",
        "\ttokens = doc.split()\n",
        "\t# remove punctuation from each token\n",
        "\ttable = str.maketrans('', '', string.punctuation)\n",
        "\ttokens = [w.translate(table) for w in tokens]\n",
        "\t# remove remaining tokens that are not alphabetic\n",
        "\ttokens = [word for word in tokens if word.isalpha()]\n",
        "\t# make lower case\n",
        "\ttokens = [word.lower() for word in tokens]\n",
        "\treturn tokens"
      ],
      "execution_count": 4,
      "outputs": []
    },
    {
      "cell_type": "code",
      "metadata": {
        "id": "K8e-DYHnbcpO",
        "outputId": "cff3d9fb-05f9-4768-de35-e792dad4a294",
        "colab": {
          "base_uri": "https://localhost:8080/"
        }
      },
      "source": [
        "# clean document\n",
        "tokens = clean_doc(doc)\n",
        "print(tokens[:200])\n",
        "print('Total Tokens: %d' % len(tokens))\n",
        "print('Unique Tokens: %d' % len(set(tokens)))"
      ],
      "execution_count": 5,
      "outputs": [
        {
          "output_type": "stream",
          "text": [
            "['chapter', 'bce', 'somewhere', 'near', 'the', 'godavari', 'river', 'india', 'ram', 'crouched', 'low', 'as', 'he', 'bent', 'his', 'tall', 'lean', 'and', 'muscular', 'frame', 'he', 'rested', 'his', 'weight', 'on', 'his', 'right', 'knee', 'as', 'he', 'held', 'the', 'bow', 'steady', 'the', 'arrow', 'was', 'fixed', 'in', 'place', 'but', 'he', 'knew', 'that', 'the', 'bowstring', 'should', 'not', 'be', 'pulled', 'too', 'early', 'he', 'want', 'his', 'muscles', 'to', 'tire', 'out', 'he', 'had', 'to', 'wait', 'for', 'the', 'perfect', 'moment', 'it', 'must', 'be', 'a', 'clean', 'strike', 'moving', 'dada', 'whispered', 'lakshman', 'to', 'his', 'elder', 'brother', 'ram', 'reply', 'his', 'eyes', 'were', 'fixed', 'on', 'the', 'target', 'a', 'light', 'breeze', 'played', 'with', 'the', 'few', 'strands', 'of', 'hair', 'that', 'had', 'escaped', 'the', 'practical', 'bun', 'atop', 'his', 'head', 'his', 'shaggy', 'unkempt', 'beard', 'and', 'his', 'white', 'dhoti', 'gently', 'fluttered', 'in', 'the', 'breeze', 'ram', 'corrected', 'his', 'angle', 'as', 'he', 'factored', 'in', 'the', 'strength', 'and', 'direction', 'of', 'the', 'wind', 'he', 'quietly', 'cast', 'his', 'white', 'angvastram', 'aside', 'to', 'reveal', 'a', 'battlescarred', 'darkskinned', 'torso', 'the', 'cloth', 'should', 'not', 'interfere', 'with', 'the', 'release', 'of', 'the', 'arrow', 'the', 'deer', 'suddenly', 'came', 'to', 'a', 'standstill', 'as', 'it', 'looked', 'up', 'perhaps', 'instinct', 'had', 'kicked', 'in', 'with', 'some', 'warning', 'signals', 'ram', 'could', 'hear', 'its', 'low', 'snort', 'as', 'it', 'stomped', 'its', 'feet', 'uneasily', 'within', 'a', 'few', 'seconds', 'it', 'went', 'back']\n",
            "Total Tokens: 86308\n",
            "Unique Tokens: 8197\n"
          ],
          "name": "stdout"
        }
      ]
    },
    {
      "cell_type": "code",
      "metadata": {
        "id": "p-hr_rypcRQt",
        "outputId": "feeb23d7-53a2-4cd1-bc0c-b767a2549dc0",
        "colab": {
          "base_uri": "https://localhost:8080/"
        }
      },
      "source": [
        "# organize into sequences of tokens\n",
        "length = 50 + 1\n",
        "sequences = list()\n",
        "for i in range(length, len(tokens)):\n",
        "\t# select sequence of tokens\n",
        "\tseq = tokens[i-length:i]\n",
        "\t# convert into a line\n",
        "\tline = ' '.join(seq)\n",
        "\t# store\n",
        "\tsequences.append(line)\n",
        "print('Total Sequences: %d' % len(sequences))"
      ],
      "execution_count": 6,
      "outputs": [
        {
          "output_type": "stream",
          "text": [
            "Total Sequences: 86257\n"
          ],
          "name": "stdout"
        }
      ]
    },
    {
      "cell_type": "code",
      "metadata": {
        "id": "DrUdubBYcg3e"
      },
      "source": [
        "# save tokens to file, one dialog per line\n",
        "def save_doc(lines, filename):\n",
        "\tdata = '\\n'.join(lines)\n",
        "\tfile = open(filename, 'w')\n",
        "\tfile.write(data)\n",
        "\tfile.close()"
      ],
      "execution_count": 7,
      "outputs": []
    },
    {
      "cell_type": "code",
      "metadata": {
        "id": "bBjfzSxNcoAG"
      },
      "source": [
        "\n",
        "# save sequences to file\n",
        "out_filename = 'republic_sequences.txt'\n",
        "save_doc(sequences, out_filename)"
      ],
      "execution_count": 8,
      "outputs": []
    },
    {
      "cell_type": "code",
      "metadata": {
        "id": "9PSUdJ35cris"
      },
      "source": [
        "# load doc into memory\n",
        "def load_doc(filename):\n",
        "\t# open the file as read only\n",
        "\tfile = open(filename, 'r')\n",
        "\t# read all text\n",
        "\ttext = file.read()\n",
        "\t# close the file\n",
        "\tfile.close()\n",
        "\treturn text\n",
        "\n",
        "# load\n",
        "in_filename = 'republic_sequences.txt'\n",
        "doc = load_doc(in_filename)\n",
        "lines = doc.split('\\n')"
      ],
      "execution_count": 9,
      "outputs": []
    },
    {
      "cell_type": "code",
      "metadata": {
        "id": "DRTgM8e_dBrH"
      },
      "source": [
        "# integer encode sequences of words\n",
        "\n",
        "from keras.preprocessing.text import Tokenizer\n",
        "\n",
        "tokenizer = Tokenizer()\n",
        "tokenizer.fit_on_texts(lines)\n",
        "sequences = tokenizer.texts_to_sequences(lines)"
      ],
      "execution_count": 10,
      "outputs": []
    },
    {
      "cell_type": "code",
      "metadata": {
        "id": "xE3aLH0UdFh5"
      },
      "source": [
        "# vocabulary size\n",
        "vocab_size = len(tokenizer.word_index) + 1"
      ],
      "execution_count": 11,
      "outputs": []
    },
    {
      "cell_type": "code",
      "metadata": {
        "id": "U2lWps0OieAV"
      },
      "source": [
        "# separate into input and output\n",
        "sequences = array(sequences)\n",
        "X, y = sequences[:,:-1], sequences[:,-1]\n",
        "y = to_categorical(y, num_classes=vocab_size)\n",
        "seq_length = X.shape[1]"
      ],
      "execution_count": 12,
      "outputs": []
    },
    {
      "cell_type": "code",
      "metadata": {
        "id": "ueys2e08-_ne"
      },
      "source": [
        "from sklearn.model_selection import train_test_split\n",
        "import numpy\n",
        "seed = 7\n",
        "numpy.random.seed(seed)\n",
        "X_train, X_test, y_train, y_test = train_test_split(X, y, test_size=0.33, random_state=seed)"
      ],
      "execution_count": 13,
      "outputs": []
    },
    {
      "cell_type": "code",
      "metadata": {
        "id": "Nu2XQx2iiHSh",
        "outputId": "73ca7d7d-071f-4853-8993-4ade9f3e7b58",
        "colab": {
          "base_uri": "https://localhost:8080/"
        }
      },
      "source": [
        "# define model\n",
        "from keras.layers import Dropout\n",
        "model = Sequential()\n",
        "model.add(Embedding(vocab_size, 50, input_length=seq_length))\n",
        "model.add(LSTM(256, return_sequences=True))\n",
        "model.add(LSTM(256))\n",
        "model.add(Dense(256, activation='relu'))\n",
        "#model.add(Dropout(0.2))\n",
        "model.add(Dense(vocab_size, activation='softmax'))\n",
        "print(model.summary())"
      ],
      "execution_count": 14,
      "outputs": [
        {
          "output_type": "stream",
          "text": [
            "Model: \"sequential\"\n",
            "_________________________________________________________________\n",
            "Layer (type)                 Output Shape              Param #   \n",
            "=================================================================\n",
            "embedding (Embedding)        (None, 50, 50)            409900    \n",
            "_________________________________________________________________\n",
            "lstm (LSTM)                  (None, 50, 256)           314368    \n",
            "_________________________________________________________________\n",
            "lstm_1 (LSTM)                (None, 256)               525312    \n",
            "_________________________________________________________________\n",
            "dense (Dense)                (None, 256)               65792     \n",
            "_________________________________________________________________\n",
            "dense_1 (Dense)              (None, 8198)              2106886   \n",
            "=================================================================\n",
            "Total params: 3,422,258\n",
            "Trainable params: 3,422,258\n",
            "Non-trainable params: 0\n",
            "_________________________________________________________________\n",
            "None\n"
          ],
          "name": "stdout"
        }
      ]
    },
    {
      "cell_type": "code",
      "metadata": {
        "id": "U-3XAk05fwTK"
      },
      "source": [
        "\n",
        "# compile model\n",
        "model.compile(loss='categorical_crossentropy', optimizer='adam', metrics=['accuracy'])\n"
      ],
      "execution_count": 15,
      "outputs": []
    },
    {
      "cell_type": "code",
      "metadata": {
        "id": "DdxVSChb_CGw",
        "outputId": "c854fdad-a616-4fe4-c46a-bf79b9dd4b65",
        "colab": {
          "base_uri": "https://localhost:8080/"
        }
      },
      "source": [
        "from matplotlib import pyplot\n",
        "\n",
        "history = model.fit(X, y, batch_size=128,epochs=100,validation_data=(X_test,y_test))\n"
      ],
      "execution_count": 16,
      "outputs": [
        {
          "output_type": "stream",
          "text": [
            "Epoch 1/100\n",
            "674/674 [==============================] - 19s 28ms/step - loss: 6.7567 - accuracy: 0.0676 - val_loss: 6.3745 - val_accuracy: 0.0802\n",
            "Epoch 2/100\n",
            "674/674 [==============================] - 19s 28ms/step - loss: 6.3374 - accuracy: 0.0789 - val_loss: 6.1540 - val_accuracy: 0.0821\n",
            "Epoch 3/100\n",
            "674/674 [==============================] - 19s 28ms/step - loss: 6.1377 - accuracy: 0.0836 - val_loss: 5.9724 - val_accuracy: 0.0972\n",
            "Epoch 4/100\n",
            "674/674 [==============================] - 19s 28ms/step - loss: 5.9496 - accuracy: 0.0982 - val_loss: 5.7782 - val_accuracy: 0.1081\n",
            "Epoch 5/100\n",
            "674/674 [==============================] - 19s 27ms/step - loss: 5.7843 - accuracy: 0.1072 - val_loss: 5.6000 - val_accuracy: 0.1184\n",
            "Epoch 6/100\n",
            "674/674 [==============================] - 18s 27ms/step - loss: 5.6208 - accuracy: 0.1178 - val_loss: 5.4464 - val_accuracy: 0.1282\n",
            "Epoch 7/100\n",
            "674/674 [==============================] - 18s 27ms/step - loss: 5.4716 - accuracy: 0.1241 - val_loss: 5.2908 - val_accuracy: 0.1333\n",
            "Epoch 8/100\n",
            "674/674 [==============================] - 18s 27ms/step - loss: 5.3304 - accuracy: 0.1307 - val_loss: 5.1342 - val_accuracy: 0.1392\n",
            "Epoch 9/100\n",
            "674/674 [==============================] - 18s 27ms/step - loss: 5.2538 - accuracy: 0.1320 - val_loss: 5.1434 - val_accuracy: 0.1380\n",
            "Epoch 10/100\n",
            "674/674 [==============================] - 18s 27ms/step - loss: 5.1251 - accuracy: 0.1368 - val_loss: 4.9117 - val_accuracy: 0.1477\n",
            "Epoch 11/100\n",
            "674/674 [==============================] - 18s 27ms/step - loss: 4.9797 - accuracy: 0.1446 - val_loss: 4.7627 - val_accuracy: 0.1546\n",
            "Epoch 12/100\n",
            "674/674 [==============================] - 19s 27ms/step - loss: 4.8513 - accuracy: 0.1496 - val_loss: 4.6495 - val_accuracy: 0.1609\n",
            "Epoch 13/100\n",
            "674/674 [==============================] - 18s 27ms/step - loss: 4.7486 - accuracy: 0.1541 - val_loss: 4.5371 - val_accuracy: 0.1643\n",
            "Epoch 14/100\n",
            "674/674 [==============================] - 19s 27ms/step - loss: 4.6444 - accuracy: 0.1588 - val_loss: 4.4122 - val_accuracy: 0.1721\n",
            "Epoch 15/100\n",
            "674/674 [==============================] - 18s 27ms/step - loss: 4.5264 - accuracy: 0.1626 - val_loss: 4.2927 - val_accuracy: 0.1776\n",
            "Epoch 16/100\n",
            "674/674 [==============================] - 18s 27ms/step - loss: 4.4116 - accuracy: 0.1689 - val_loss: 4.1728 - val_accuracy: 0.1862\n",
            "Epoch 17/100\n",
            "674/674 [==============================] - 19s 27ms/step - loss: 4.3042 - accuracy: 0.1731 - val_loss: 4.0924 - val_accuracy: 0.1895\n",
            "Epoch 18/100\n",
            "674/674 [==============================] - 19s 28ms/step - loss: 4.2324 - accuracy: 0.1792 - val_loss: 3.9736 - val_accuracy: 0.2010\n",
            "Epoch 19/100\n",
            "674/674 [==============================] - 19s 28ms/step - loss: 4.1166 - accuracy: 0.1861 - val_loss: 3.8600 - val_accuracy: 0.2120\n",
            "Epoch 20/100\n",
            "674/674 [==============================] - 19s 28ms/step - loss: 4.0178 - accuracy: 0.1934 - val_loss: 3.7629 - val_accuracy: 0.2245\n",
            "Epoch 21/100\n",
            "674/674 [==============================] - 19s 28ms/step - loss: 3.9282 - accuracy: 0.2023 - val_loss: 3.6714 - val_accuracy: 0.2363\n",
            "Epoch 22/100\n",
            "674/674 [==============================] - 19s 27ms/step - loss: 3.9121 - accuracy: 0.2067 - val_loss: 3.7166 - val_accuracy: 0.2314\n",
            "Epoch 23/100\n",
            "674/674 [==============================] - 19s 27ms/step - loss: 3.8685 - accuracy: 0.2094 - val_loss: 3.6155 - val_accuracy: 0.2464\n",
            "Epoch 24/100\n",
            "674/674 [==============================] - 18s 27ms/step - loss: 3.7865 - accuracy: 0.2178 - val_loss: 3.5206 - val_accuracy: 0.2565\n",
            "Epoch 25/100\n",
            "674/674 [==============================] - 19s 27ms/step - loss: 3.6917 - accuracy: 0.2281 - val_loss: 3.4182 - val_accuracy: 0.2714\n",
            "Epoch 26/100\n",
            "674/674 [==============================] - 19s 28ms/step - loss: 3.6081 - accuracy: 0.2388 - val_loss: 3.3657 - val_accuracy: 0.2790\n",
            "Epoch 27/100\n",
            "674/674 [==============================] - 19s 27ms/step - loss: 3.5765 - accuracy: 0.2451 - val_loss: 3.3235 - val_accuracy: 0.2852\n",
            "Epoch 28/100\n",
            "674/674 [==============================] - 19s 27ms/step - loss: 3.4553 - accuracy: 0.2577 - val_loss: 3.1960 - val_accuracy: 0.3025\n",
            "Epoch 29/100\n",
            "674/674 [==============================] - 18s 27ms/step - loss: 3.3700 - accuracy: 0.2714 - val_loss: 3.1186 - val_accuracy: 0.3155\n",
            "Epoch 30/100\n",
            "674/674 [==============================] - 19s 27ms/step - loss: 3.3652 - accuracy: 0.2740 - val_loss: 3.0981 - val_accuracy: 0.3206\n",
            "Epoch 31/100\n",
            "674/674 [==============================] - 19s 28ms/step - loss: 3.2632 - accuracy: 0.2889 - val_loss: 2.9877 - val_accuracy: 0.3398\n",
            "Epoch 32/100\n",
            "674/674 [==============================] - 19s 28ms/step - loss: 3.1676 - accuracy: 0.3016 - val_loss: 2.8989 - val_accuracy: 0.3556\n",
            "Epoch 33/100\n",
            "674/674 [==============================] - 18s 27ms/step - loss: 3.1134 - accuracy: 0.3123 - val_loss: 2.9986 - val_accuracy: 0.3388\n",
            "Epoch 34/100\n",
            "674/674 [==============================] - 19s 28ms/step - loss: 3.3107 - accuracy: 0.2872 - val_loss: 2.9615 - val_accuracy: 0.3451\n",
            "Epoch 35/100\n",
            "674/674 [==============================] - 19s 28ms/step - loss: 3.1227 - accuracy: 0.3098 - val_loss: 2.8298 - val_accuracy: 0.3645\n",
            "Epoch 36/100\n",
            "674/674 [==============================] - 19s 28ms/step - loss: 2.9993 - accuracy: 0.3286 - val_loss: 2.7418 - val_accuracy: 0.3797\n",
            "Epoch 37/100\n",
            "674/674 [==============================] - 19s 28ms/step - loss: 2.9276 - accuracy: 0.3434 - val_loss: 2.8623 - val_accuracy: 0.3641\n",
            "Epoch 38/100\n",
            "674/674 [==============================] - 19s 28ms/step - loss: 3.4318 - accuracy: 0.2701 - val_loss: 3.1143 - val_accuracy: 0.3192\n",
            "Epoch 39/100\n",
            "674/674 [==============================] - 19s 28ms/step - loss: 3.2603 - accuracy: 0.2887 - val_loss: 2.9898 - val_accuracy: 0.3375\n",
            "Epoch 40/100\n",
            "674/674 [==============================] - 19s 28ms/step - loss: 3.1364 - accuracy: 0.3071 - val_loss: 2.8675 - val_accuracy: 0.3585\n",
            "Epoch 41/100\n",
            "674/674 [==============================] - 19s 28ms/step - loss: 3.0307 - accuracy: 0.3250 - val_loss: 2.7729 - val_accuracy: 0.3730\n",
            "Epoch 42/100\n",
            "674/674 [==============================] - 19s 28ms/step - loss: 2.9319 - accuracy: 0.3394 - val_loss: 2.6877 - val_accuracy: 0.3901\n",
            "Epoch 43/100\n",
            "674/674 [==============================] - 19s 28ms/step - loss: 2.8420 - accuracy: 0.3554 - val_loss: 2.5877 - val_accuracy: 0.4086\n",
            "Epoch 44/100\n",
            "674/674 [==============================] - 19s 28ms/step - loss: 2.7556 - accuracy: 0.3673 - val_loss: 2.4985 - val_accuracy: 0.4246\n",
            "Epoch 45/100\n",
            "674/674 [==============================] - 19s 28ms/step - loss: 2.6650 - accuracy: 0.3860 - val_loss: 2.4258 - val_accuracy: 0.4396\n",
            "Epoch 46/100\n",
            "674/674 [==============================] - 19s 28ms/step - loss: 2.5815 - accuracy: 0.3989 - val_loss: 2.3383 - val_accuracy: 0.4498\n",
            "Epoch 47/100\n",
            "674/674 [==============================] - 19s 28ms/step - loss: 2.4994 - accuracy: 0.4156 - val_loss: 2.2602 - val_accuracy: 0.4675\n",
            "Epoch 48/100\n",
            "674/674 [==============================] - 19s 28ms/step - loss: 2.4160 - accuracy: 0.4291 - val_loss: 2.1810 - val_accuracy: 0.4823\n",
            "Epoch 49/100\n",
            "674/674 [==============================] - 19s 28ms/step - loss: 2.3407 - accuracy: 0.4460 - val_loss: 2.0969 - val_accuracy: 0.5028\n",
            "Epoch 50/100\n",
            "674/674 [==============================] - 19s 28ms/step - loss: 2.2619 - accuracy: 0.4594 - val_loss: 2.0302 - val_accuracy: 0.5161\n",
            "Epoch 51/100\n",
            "674/674 [==============================] - 19s 28ms/step - loss: 2.1843 - accuracy: 0.4760 - val_loss: 1.9626 - val_accuracy: 0.5320\n",
            "Epoch 52/100\n",
            "674/674 [==============================] - 19s 28ms/step - loss: 2.1084 - accuracy: 0.4912 - val_loss: 1.8878 - val_accuracy: 0.5466\n",
            "Epoch 53/100\n",
            "674/674 [==============================] - 19s 28ms/step - loss: 2.0376 - accuracy: 0.5076 - val_loss: 1.8352 - val_accuracy: 0.5558\n",
            "Epoch 54/100\n",
            "674/674 [==============================] - 19s 28ms/step - loss: 1.9669 - accuracy: 0.5211 - val_loss: 1.7496 - val_accuracy: 0.5751\n",
            "Epoch 55/100\n",
            "674/674 [==============================] - 19s 28ms/step - loss: 1.8924 - accuracy: 0.5369 - val_loss: 1.6932 - val_accuracy: 0.5896\n",
            "Epoch 56/100\n",
            "674/674 [==============================] - 19s 28ms/step - loss: 1.8240 - accuracy: 0.5532 - val_loss: 1.6264 - val_accuracy: 0.6045\n",
            "Epoch 57/100\n",
            "674/674 [==============================] - 19s 28ms/step - loss: 1.7602 - accuracy: 0.5665 - val_loss: 1.5521 - val_accuracy: 0.6220\n",
            "Epoch 58/100\n",
            "674/674 [==============================] - 19s 28ms/step - loss: 1.6919 - accuracy: 0.5811 - val_loss: 1.5022 - val_accuracy: 0.6297\n",
            "Epoch 59/100\n",
            "674/674 [==============================] - 19s 28ms/step - loss: 1.6229 - accuracy: 0.5978 - val_loss: 1.4490 - val_accuracy: 0.6434\n",
            "Epoch 60/100\n",
            "674/674 [==============================] - 19s 28ms/step - loss: 1.5634 - accuracy: 0.6086 - val_loss: 1.3806 - val_accuracy: 0.6599\n",
            "Epoch 61/100\n",
            "674/674 [==============================] - 19s 28ms/step - loss: 1.5024 - accuracy: 0.6238 - val_loss: 1.3429 - val_accuracy: 0.6674\n",
            "Epoch 62/100\n",
            "674/674 [==============================] - 19s 28ms/step - loss: 1.4394 - accuracy: 0.6381 - val_loss: 1.2660 - val_accuracy: 0.6876\n",
            "Epoch 63/100\n",
            "674/674 [==============================] - 19s 28ms/step - loss: 1.3782 - accuracy: 0.6520 - val_loss: 1.2088 - val_accuracy: 0.7025\n",
            "Epoch 64/100\n",
            "674/674 [==============================] - 19s 28ms/step - loss: 1.3251 - accuracy: 0.6653 - val_loss: 1.1496 - val_accuracy: 0.7158\n",
            "Epoch 65/100\n",
            "674/674 [==============================] - 19s 28ms/step - loss: 1.2686 - accuracy: 0.6781 - val_loss: 1.1142 - val_accuracy: 0.7251\n",
            "Epoch 66/100\n",
            "674/674 [==============================] - 19s 28ms/step - loss: 1.2105 - accuracy: 0.6931 - val_loss: 1.0338 - val_accuracy: 0.7455\n",
            "Epoch 67/100\n",
            "674/674 [==============================] - 19s 28ms/step - loss: 1.1543 - accuracy: 0.7057 - val_loss: 1.0088 - val_accuracy: 0.7499\n",
            "Epoch 68/100\n",
            "674/674 [==============================] - 19s 28ms/step - loss: 1.1026 - accuracy: 0.7192 - val_loss: 0.9522 - val_accuracy: 0.7661\n",
            "Epoch 69/100\n",
            "674/674 [==============================] - 19s 28ms/step - loss: 1.0532 - accuracy: 0.7309 - val_loss: 0.9178 - val_accuracy: 0.7721\n",
            "Epoch 70/100\n",
            "674/674 [==============================] - 19s 28ms/step - loss: 1.0066 - accuracy: 0.7424 - val_loss: 0.8625 - val_accuracy: 0.7875\n",
            "Epoch 71/100\n",
            "674/674 [==============================] - 19s 28ms/step - loss: 0.9578 - accuracy: 0.7550 - val_loss: 0.8222 - val_accuracy: 0.7965\n",
            "Epoch 72/100\n",
            "674/674 [==============================] - 19s 28ms/step - loss: 0.9063 - accuracy: 0.7680 - val_loss: 0.7695 - val_accuracy: 0.8064\n",
            "Epoch 73/100\n",
            "674/674 [==============================] - 19s 28ms/step - loss: 0.8581 - accuracy: 0.7801 - val_loss: 0.7413 - val_accuracy: 0.8165\n",
            "Epoch 74/100\n",
            "674/674 [==============================] - 19s 28ms/step - loss: 0.8198 - accuracy: 0.7907 - val_loss: 0.7126 - val_accuracy: 0.8243\n",
            "Epoch 75/100\n",
            "674/674 [==============================] - 19s 28ms/step - loss: 0.7805 - accuracy: 0.7999 - val_loss: 0.6576 - val_accuracy: 0.8356\n",
            "Epoch 76/100\n",
            "674/674 [==============================] - 19s 28ms/step - loss: 0.7399 - accuracy: 0.8105 - val_loss: 0.6367 - val_accuracy: 0.8435\n",
            "Epoch 77/100\n",
            "674/674 [==============================] - 19s 28ms/step - loss: 0.6974 - accuracy: 0.8204 - val_loss: 0.5816 - val_accuracy: 0.8583\n",
            "Epoch 78/100\n",
            "674/674 [==============================] - 19s 28ms/step - loss: 0.6503 - accuracy: 0.8348 - val_loss: 0.5584 - val_accuracy: 0.8607\n",
            "Epoch 79/100\n",
            "674/674 [==============================] - 19s 28ms/step - loss: 0.6222 - accuracy: 0.8413 - val_loss: 0.5138 - val_accuracy: 0.8755\n",
            "Epoch 80/100\n",
            "674/674 [==============================] - 19s 28ms/step - loss: 0.5945 - accuracy: 0.8481 - val_loss: 0.5015 - val_accuracy: 0.8759\n",
            "Epoch 81/100\n",
            "674/674 [==============================] - 19s 28ms/step - loss: 0.5588 - accuracy: 0.8569 - val_loss: 0.4631 - val_accuracy: 0.8885\n",
            "Epoch 82/100\n",
            "674/674 [==============================] - 19s 29ms/step - loss: 0.5243 - accuracy: 0.8665 - val_loss: 0.4409 - val_accuracy: 0.8904\n",
            "Epoch 83/100\n",
            "674/674 [==============================] - 19s 29ms/step - loss: 0.4908 - accuracy: 0.8743 - val_loss: 0.4209 - val_accuracy: 0.8972\n",
            "Epoch 84/100\n",
            "674/674 [==============================] - 19s 28ms/step - loss: 0.4749 - accuracy: 0.8787 - val_loss: 0.3951 - val_accuracy: 0.9024\n",
            "Epoch 85/100\n",
            "674/674 [==============================] - 19s 28ms/step - loss: 0.4426 - accuracy: 0.8884 - val_loss: 0.3776 - val_accuracy: 0.9084\n",
            "Epoch 86/100\n",
            "674/674 [==============================] - 19s 28ms/step - loss: 0.4229 - accuracy: 0.8932 - val_loss: 0.3549 - val_accuracy: 0.9152\n",
            "Epoch 87/100\n",
            "674/674 [==============================] - 19s 29ms/step - loss: 0.3930 - accuracy: 0.9002 - val_loss: 0.3258 - val_accuracy: 0.9234\n",
            "Epoch 88/100\n",
            "674/674 [==============================] - 19s 28ms/step - loss: 0.3635 - accuracy: 0.9088 - val_loss: 0.3035 - val_accuracy: 0.9282\n",
            "Epoch 89/100\n",
            "674/674 [==============================] - 19s 28ms/step - loss: 0.3480 - accuracy: 0.9126 - val_loss: 0.2944 - val_accuracy: 0.9297\n",
            "Epoch 90/100\n",
            "674/674 [==============================] - 19s 28ms/step - loss: 0.3388 - accuracy: 0.9145 - val_loss: 0.2940 - val_accuracy: 0.9270\n",
            "Epoch 91/100\n",
            "674/674 [==============================] - 19s 28ms/step - loss: 0.3216 - accuracy: 0.9180 - val_loss: 0.2679 - val_accuracy: 0.9359\n",
            "Epoch 92/100\n",
            "674/674 [==============================] - 19s 28ms/step - loss: 0.2945 - accuracy: 0.9273 - val_loss: 0.2456 - val_accuracy: 0.9434\n",
            "Epoch 93/100\n",
            "674/674 [==============================] - 19s 28ms/step - loss: 0.2858 - accuracy: 0.9283 - val_loss: 0.2586 - val_accuracy: 0.9357\n",
            "Epoch 94/100\n",
            "674/674 [==============================] - 19s 28ms/step - loss: 0.2925 - accuracy: 0.9234 - val_loss: 0.2523 - val_accuracy: 0.9360\n",
            "Epoch 95/100\n",
            "674/674 [==============================] - 19s 28ms/step - loss: 0.2639 - accuracy: 0.9329 - val_loss: 0.2064 - val_accuracy: 0.9514\n",
            "Epoch 96/100\n",
            "674/674 [==============================] - 19s 28ms/step - loss: 0.2306 - accuracy: 0.9430 - val_loss: 0.1947 - val_accuracy: 0.9551\n",
            "Epoch 97/100\n",
            "674/674 [==============================] - 19s 28ms/step - loss: 0.2322 - accuracy: 0.9422 - val_loss: 0.2073 - val_accuracy: 0.9486\n",
            "Epoch 98/100\n",
            "674/674 [==============================] - 19s 28ms/step - loss: 0.2371 - accuracy: 0.9391 - val_loss: 0.2027 - val_accuracy: 0.9506\n",
            "Epoch 99/100\n",
            "674/674 [==============================] - 19s 28ms/step - loss: 0.2317 - accuracy: 0.9399 - val_loss: 0.1958 - val_accuracy: 0.9520\n",
            "Epoch 100/100\n",
            "674/674 [==============================] - 19s 28ms/step - loss: 0.2124 - accuracy: 0.9465 - val_loss: 0.1772 - val_accuracy: 0.9587\n"
          ],
          "name": "stdout"
        }
      ]
    },
    {
      "cell_type": "code",
      "metadata": {
        "id": "GkGaDZL3_XSA",
        "outputId": "10c7d565-5069-40b5-deef-63dca7392de5",
        "colab": {
          "base_uri": "https://localhost:8080/",
          "height": 295
        }
      },
      "source": [
        "# plot train and validation loss\n",
        "pyplot.plot(history.history['loss'])\n",
        "pyplot.plot(history.history['val_loss'])\n",
        "pyplot.title('model train vs validation loss')\n",
        "pyplot.ylabel('loss')\n",
        "pyplot.xlabel('epoch')\n",
        "pyplot.legend(['train','validation'], loc='upper right')\n",
        "pyplot.show()"
      ],
      "execution_count": 17,
      "outputs": [
        {
          "output_type": "display_data",
          "data": {
            "image/png": "[encoded data removed]",
            "text/plain": [
              "<Figure size 432x288 with 1 Axes>"
            ]
          },
          "metadata": {
            "tags": [],
            "needs_background": "light"
          }
        }
      ]
    },
    {
      "cell_type": "code",
      "metadata": {
        "id": "b0wvScqmzBLF",
        "outputId": "4050b7ba-6fde-47a9-c55d-ab28d72b1183",
        "colab": {
          "base_uri": "https://localhost:8080/",
          "height": 295
        }
      },
      "source": [
        "pyplot.plot(history.history['accuracy'])\n",
        "pyplot.plot(history.history['val_accuracy'])\n",
        "pyplot.title('model train vs validation acc')\n",
        "pyplot.ylabel('accuracy')\n",
        "pyplot.xlabel('epoch')\n",
        "pyplot.legend(['train', 'validation'], loc='upper right')\n",
        "pyplot.show()"
      ],
      "execution_count": 18,
      "outputs": [
        {
          "output_type": "display_data",
          "data": {
            "image/png": "[encoded data removed]",
            "text/plain": [
              "<Figure size 432x288 with 1 Axes>"
            ]
          },
          "metadata": {
            "tags": [],
            "needs_background": "light"
          }
        }
      ]
    },
    {
      "cell_type": "code",
      "metadata": {
        "id": "lqJ0Yy2TjCeA"
      },
      "source": [
        "\n",
        "# save the model to file\n",
        "model.save('model.h5')\n",
        "# save the tokenizer\n",
        "dump(tokenizer, open('tokenizer.pkl', 'wb'))"
      ],
      "execution_count": 19,
      "outputs": []
    },
    {
      "cell_type": "code",
      "metadata": {
        "id": "knz-900aqAm8"
      },
      "source": [
        "def load_doc(filename):\n",
        "\t# open the file as read only\n",
        "\tfile = open(filename, 'r')\n",
        "\t# read all text\n",
        "\ttext = file.read()\n",
        "\t# close the file\n",
        "\tfile.close()\n",
        "\treturn text\n",
        " \n",
        "# load cleaned text sequences\n",
        "in_filename = 'republic_sequences.txt'\n",
        "doc = load_doc(in_filename)\n",
        "lines = doc.split('\\n')"
      ],
      "execution_count": 20,
      "outputs": []
    },
    {
      "cell_type": "code",
      "metadata": {
        "id": "xFb4SqywqRu5"
      },
      "source": [
        "seq_length = len(lines[0].split()) - 1"
      ],
      "execution_count": 21,
      "outputs": []
    },
    {
      "cell_type": "code",
      "metadata": {
        "id": "gS57heLcqU1b"
      },
      "source": [
        "# load the model\n",
        "from keras.models import load_model\n",
        "from pickle import dump\n",
        "model = load_model('model.h5')"
      ],
      "execution_count": 22,
      "outputs": []
    },
    {
      "cell_type": "code",
      "metadata": {
        "id": "DAc5ZqY3soYz"
      },
      "source": [
        "from random import randint\n",
        "from pickle import load\n",
        "from keras.models import load_model\n",
        "from keras.preprocessing.sequence import pad_sequences\n",
        " \n",
        "\n",
        " \n",
        "# generate a sequence from a language model\n",
        "def generate_seq(model, tokenizer, seq_length, seed_text, n_words):\n",
        "\tresult = list()\n",
        "\tin_text = seed_text\n",
        "\t# generate a fixed number of words\n",
        "\tfor _ in range(n_words):\n",
        "\t\t# encode the text as integer\n",
        "\t\tencoded = tokenizer.texts_to_sequences([in_text])[0]\n",
        "\t\t# truncate sequences to a fixed length\n",
        "\t\tencoded = pad_sequences([encoded], maxlen=seq_length, truncating='pre')\n",
        "\t\t# predict probabilities for each word\n",
        "\t\tyhat = model.predict_classes(encoded, verbose=0)\n",
        "\t\t# map predicted word index to word\n",
        "\t\tout_word = ''\n",
        "\t\tfor word, index in tokenizer.word_index.items():\n",
        "\t\t\tif index == yhat:\n",
        "\t\t\t\tout_word = word\n",
        "\t\t\t\tbreak\n",
        "\t\t# append to input\n",
        "\t\tin_text += ' ' + out_word\n",
        "\t\tresult.append(out_word)\n",
        "\treturn ' '.join(result)\n",
        " \n"
      ],
      "execution_count": 23,
      "outputs": []
    },
    {
      "cell_type": "code",
      "metadata": {
        "id": "RKETYSSEtcdK"
      },
      "source": [
        "# load cleaned text sequences\n",
        "in_filename = 'republic_sequences.txt'\n",
        "doc = load_doc(in_filename)\n",
        "lines = doc.split('\\n')\n",
        "seq_length = len(lines[0].split()) - 1\n",
        " \n",
        "# load the model\n",
        "model = load_model('model.h5')\n",
        " \n",
        "# load the tokenizer\n",
        "tokenizer = load(open('tokenizer.pkl', 'rb'))\n",
        " \n"
      ],
      "execution_count": 24,
      "outputs": []
    },
    {
      "cell_type": "code",
      "metadata": {
        "id": "T5J-H9t7tgHR",
        "outputId": "e50afb8a-25f0-427a-a36d-f5f83cd9fc5c",
        "colab": {
          "base_uri": "https://localhost:8080/"
        }
      },
      "source": [
        "# select a seed text\n",
        "seed_text = lines[randint(0,len(lines))]\n",
        "print(seed_text + '\\n')\n",
        " \n"
      ],
      "execution_count": 25,
      "outputs": [
        {
          "output_type": "stream",
          "text": [
            "should be grateful to the asuras for all that brutal said ram suggesting is that some good can emerge from the most horrific of events there is something positive hidden in every negative and something negative hidden in every positive life is complicated and a balanced person can see both sides\n",
            "\n"
          ],
          "name": "stdout"
        }
      ]
    },
    {
      "cell_type": "code",
      "metadata": {
        "id": "nYogJqz_tfy1",
        "outputId": "302edb57-933c-474d-8aec-362f4662c1e3",
        "colab": {
          "base_uri": "https://localhost:8080/"
        }
      },
      "source": [
        "# generate new text\n",
        "generated = generate_seq(model, tokenizer, seq_length, seed_text, 50)\n",
        "print(generated)"
      ],
      "execution_count": 26,
      "outputs": [
        {
          "output_type": "stream",
          "text": [
            "WARNING:tensorflow:From <ipython-input-23-27f3623edef7>:19: Sequential.predict_classes (from tensorflow.python.keras.engine.sequential) is deprecated and will be removed after 2021-01-01.\n",
            "Instructions for updating:\n",
            "Please use instead:* `np.argmax(model.predict(x), axis=-1)`,   if your model does multi-class classification   (e.g. if it uses a `softmax` last-layer activation).* `(model.predict(x) > 0.5).astype(\"int32\")`,   if your model does binary classification   (e.g. if it uses a `sigmoid` last-layer activation).\n",
            "for instance can you deny that with the asura experience long forgotten the caste system has become rigid once again a status in society today is determined by his birth and not his karma will you deny that this evil is ravaging the vitals of the modern sapt said lakshman\n"
          ],
          "name": "stdout"
        }
      ]
    },
    {
      "cell_type": "code",
      "metadata": {
        "id": "I5coTuDEtfOC",
        "outputId": "e0ed97a7-7982-4631-a555-361a0c7865b0",
        "colab": {
          "base_uri": "https://localhost:8080/"
        }
      },
      "source": [
        "loss, accuracy = model.evaluate(X, y)\n"
      ],
      "execution_count": 27,
      "outputs": [
        {
          "output_type": "stream",
          "text": [
            "2696/2696 [==============================] - 16s 6ms/step - loss: 0.1811 - accuracy: 0.9571\n"
          ],
          "name": "stdout"
        }
      ]
    },
    {
      "cell_type": "code",
      "metadata": {
        "id": "jO0Z-j5h_kb7",
        "outputId": "edf737bd-fc2e-4def-9cb3-36acaf774491",
        "colab": {
          "base_uri": "https://localhost:8080/"
        }
      },
      "source": [
        "print(loss)\n",
        "print(accuracy)"
      ],
      "execution_count": 28,
      "outputs": [
        {
          "output_type": "stream",
          "text": [
            "0.18113617599010468\n",
            "0.9571397304534912\n"
          ],
          "name": "stdout"
        }
      ]
    },
    {
      "cell_type": "code",
      "metadata": {
        "id": "vHI14qPD_7Un"
      },
      "source": [
        ""
      ],
      "execution_count": 28,
      "outputs": []
    }
  ]
}